{
 "cells": [
  {
   "cell_type": "markdown",
   "metadata": {},
   "source": [
    "# Setup Marconi with AiiDA "
   ]
  },
  {
   "cell_type": "code",
   "execution_count": 1,
   "metadata": {},
   "outputs": [],
   "source": [
    "from __future__ import print_function\n",
    "\n",
    "from aiida import load_dbenv, is_dbenv_loaded\n",
    "from aiida.backends import settings\n",
    "if not is_dbenv_loaded():\n",
    "    load_dbenv(profile=settings.AIIDADB_PROFILE)\n",
    "\n",
    "from aiida.orm.querybuilder import QueryBuilder\n",
    "from aiida.orm import load_node, Code, Computer\n",
    "from aiida.common.exceptions import NotExistent, MultipleObjectsError\n",
    "from aiida.backends.utils import get_automatic_user\n",
    "#from aiida.backends.sqlalchemy.models.authinfo import DbAuthInfo\n",
    "from aiida.backends.djsite.db.models import DbAuthInfo\n",
    "\n",
    "import ipywidgets as ipw\n",
    "from IPython.display import display, clear_output\n",
    "\n",
    "from subprocess import check_call, check_output, call\n",
    "from os import path\n",
    "import re"
   ]
  },
  {
   "cell_type": "code",
   "execution_count": 2,
   "metadata": {},
   "outputs": [],
   "source": [
    "layout = ipw.Layout(width=\"400px\")\n",
    "style = {\"description_width\":\"150px\"}"
   ]
  },
  {
   "cell_type": "markdown",
   "metadata": {},
   "source": [
    "## Step 1: Setup ssh"
   ]
  },
  {
   "cell_type": "code",
   "execution_count": 3,
   "metadata": {},
   "outputs": [],
   "source": [
    "def ssh_keygen():\n",
    "    fn = path.expanduser(\"~/.ssh/id_rsa\")\n",
    "    if not path.exists(fn):\n",
    "        print(\"Creating ssh key pair\")\n",
    "        !  mkdir -p /project/.ssh\n",
    "        ! ssh-keygen -f {fn} -t rsa -N ''\n",
    "    \n",
    "def is_host_known(hostname):\n",
    "    fn = path.expanduser(\"~/.ssh/known_hosts\")\n",
    "    if not path.exists(fn):\n",
    "        return False\n",
    "    return call([\"ssh-keygen\", \"-F\", hostname]) == 0\n",
    "\n",
    "def make_host_known(hostname, proxycmd=[]):\n",
    "    fn = path.expanduser(\"~/.ssh/known_hosts\")\n",
    "    print(\"Adding keys from %s to %s\"%(hostname, fn))\n",
    "    hashes = check_output(proxycmd+[\"ssh-keyscan\", \"-H\", hostname])\n",
    "    with open(fn, \"a\") as f:\n",
    "        f.write(hashes)\n",
    "\n",
    "def can_login(hostname, username):\n",
    "    userhost = username+\"@\"+hostname\n",
    "    print(\"Trying ssh \"+userhost+\"... \", end='')\n",
    "    ret = call([\"ssh\", userhost, \"true\"])\n",
    "    print(\"Ok\" if ret==0 else \"Failed\")\n",
    "    return ret==0\n",
    "\n",
    "def print_pubkey(hostname, username):\n",
    "    fn = path.expanduser(\"~/.ssh/id_rsa.pub\")\n",
    "    key = open(fn).read().strip()\n",
    "    print('ssh '+username+'@'+hostname+' \\'echo \"'+key+'\" >> ~/.ssh/authorized_keys\\'')\n",
    "\n",
    "def is_in_config(hostname):\n",
    "    fn = path.expanduser(\"~/.ssh/config\")\n",
    "    if not path.exists(fn):\n",
    "        return False\n",
    "    cfglines = open(fn).read().split(\"\\n\")\n",
    "    return \"Host \"+hostname in cfglines\n",
    "\n",
    "def write_ssh_config(targethost, username):\n",
    "    fn = path.expanduser(\"~/.ssh/config\")\n",
    "    print(\"Adding section to \"+fn)\n",
    "    with open(fn, \"a\") as f:\n",
    "        f.write(\"Host \"+targethost+\"\\n\")\n",
    "        f.write(\"User \"+username+\"\\n\")\n",
    "        \n",
    "def fetch_slurm_accounts(hostname, username):\n",
    "    userhost = username+\"@\"+hostname\n",
    "    print(\"Fetching slurm accounts\")\n",
    "    \n",
    "    #sbucheck = check_output([\"ssh\", username+\"@daint.cscs.ch\", \"sbucheck\"])\n",
    "    #slurm_accounts = re.findall(\"\\* (\\w+):.*constraints: (\\w+)\", sbucheck)\n",
    "    options = [(\"Please select a slurm account\", False)]\n",
    "    for l, c in [('Pra14_3518', 'knl_usr_prod')]:\n",
    "        options.append([\"%s (%s)\"%(l,c), (l,c)])\n",
    "    drop_account.options = options\n",
    "\n",
    "def setup_ssh(targethost, username):\n",
    "    ssh_keygen()\n",
    "\n",
    "    if not can_login(targethost, username):\n",
    "        print(\"Please execute the following command and then try again:\\n\")\n",
    "        print_pubkey(targethost, username)\n",
    "        return False\n",
    "                \n",
    "    # now setup target host\n",
    "    if not is_host_known(targethost):\n",
    "        make_host_known(targethost, proxycmd=['ssh', username+\"@\"+targethost])\n",
    "    \n",
    "    if not is_in_config(targethost):\n",
    "        write_ssh_config(targethost, username)\n",
    "         \n",
    "    # final check\n",
    "    if can_login(targethost, username):\n",
    "        fetch_slurm_accounts(targethost, username)\n",
    "        print(\"Automatic ssh setup successful :-)\")\n",
    "        return True\n",
    "    else:\n",
    "        print(\"Automatic ssh setup failed, sorry :-(\")\n",
    "        return False"
   ]
  },
  {
   "cell_type": "code",
   "execution_count": 4,
   "metadata": {},
   "outputs": [
    {
     "data": {
      "application/vnd.jupyter.widget-view+json": {
       "model_id": "c305b97b75ed49e3814a5206d7b98cc2",
       "version_major": 2,
       "version_minor": 0
      },
      "text/html": [
       "<p>Failed to display Jupyter Widget of type <code>Text</code>.</p>\n",
       "<p>\n",
       "  If you're reading this message in the Jupyter Notebook or JupyterLab Notebook, it may mean\n",
       "  that the widgets JavaScript is still loading. If this message persists, it\n",
       "  likely means that the widgets JavaScript library is either not installed or\n",
       "  not enabled. See the <a href=\"https://ipywidgets.readthedocs.io/en/stable/user_install.html\">Jupyter\n",
       "  Widgets Documentation</a> for setup instructions.\n",
       "</p>\n",
       "<p>\n",
       "  If you're reading this message in another frontend (for example, a static\n",
       "  rendering on GitHub or <a href=\"https://nbviewer.jupyter.org/\">NBViewer</a>),\n",
       "  it may mean that your frontend doesn't currently support widgets.\n",
       "</p>\n"
      ],
      "text/plain": [
       "Text(value=u'', description=u'Marconi user name:', layout=Layout(width=u'400px'), style=DescriptionStyle(description_width=u'150px'))"
      ]
     },
     "metadata": {},
     "output_type": "display_data"
    },
    {
     "data": {
      "application/vnd.jupyter.widget-view+json": {
       "model_id": "fc373771a9d44bf0a5cb955d7cfa480e",
       "version_major": 2,
       "version_minor": 0
      },
      "text/html": [
       "<p>Failed to display Jupyter Widget of type <code>Button</code>.</p>\n",
       "<p>\n",
       "  If you're reading this message in the Jupyter Notebook or JupyterLab Notebook, it may mean\n",
       "  that the widgets JavaScript is still loading. If this message persists, it\n",
       "  likely means that the widgets JavaScript library is either not installed or\n",
       "  not enabled. See the <a href=\"https://ipywidgets.readthedocs.io/en/stable/user_install.html\">Jupyter\n",
       "  Widgets Documentation</a> for setup instructions.\n",
       "</p>\n",
       "<p>\n",
       "  If you're reading this message in another frontend (for example, a static\n",
       "  rendering on GitHub or <a href=\"https://nbviewer.jupyter.org/\">NBViewer</a>),\n",
       "  it may mean that your frontend doesn't currently support widgets.\n",
       "</p>\n"
      ],
      "text/plain": [
       "Button(description=u'Setup ssh', style=ButtonStyle())"
      ]
     },
     "metadata": {},
     "output_type": "display_data"
    },
    {
     "data": {
      "application/vnd.jupyter.widget-view+json": {
       "model_id": "a544adb18f4b4dc29a524661a49bdf74",
       "version_major": 2,
       "version_minor": 0
      },
      "text/html": [
       "<p>Failed to display Jupyter Widget of type <code>Output</code>.</p>\n",
       "<p>\n",
       "  If you're reading this message in the Jupyter Notebook or JupyterLab Notebook, it may mean\n",
       "  that the widgets JavaScript is still loading. If this message persists, it\n",
       "  likely means that the widgets JavaScript library is either not installed or\n",
       "  not enabled. See the <a href=\"https://ipywidgets.readthedocs.io/en/stable/user_install.html\">Jupyter\n",
       "  Widgets Documentation</a> for setup instructions.\n",
       "</p>\n",
       "<p>\n",
       "  If you're reading this message in another frontend (for example, a static\n",
       "  rendering on GitHub or <a href=\"https://nbviewer.jupyter.org/\">NBViewer</a>),\n",
       "  it may mean that your frontend doesn't currently support widgets.\n",
       "</p>\n"
      ],
      "text/plain": [
       "Output()"
      ]
     },
     "metadata": {},
     "output_type": "display_data"
    }
   ],
   "source": [
    "def on_setup_ssh(b):\n",
    "    with setup_ssh_out:\n",
    "        clear_output()\n",
    "        if len(inp_username.value.strip())==0:\n",
    "            print(\"Please enter your CSCS username\")\n",
    "            return\n",
    "        setup_ssh(\"login.marconi.cineca.it\", inp_username.value)\n",
    "\n",
    "inp_username = ipw.Text(description=\"Marconi user name:\", layout=layout, style=style)\n",
    "btn_setup_ssh = ipw.Button(description=\"Setup ssh\")\n",
    "btn_setup_ssh.on_click(on_setup_ssh)\n",
    "setup_ssh_out = ipw.Output()\n",
    "\n",
    "display(inp_username,btn_setup_ssh, setup_ssh_out)"
   ]
  },
  {
   "cell_type": "markdown",
   "metadata": {},
   "source": [
    "## Step 2: Setup AiiDA Computer"
   ]
  },
  {
   "cell_type": "code",
   "execution_count": 10,
   "metadata": {},
   "outputs": [],
   "source": [
    "# https://github.com/aiidateam/aiida_core/blob/develop/aiida/cmdline/commands/computer.py#L400\n",
    "\n",
    "def setup_computer(computer_name, username, account, partition):\n",
    "    try:\n",
    "        computer = Computer.get(computer_name)\n",
    "        print(\"A computer called {} already exists.\".format(computer_name))\n",
    "        return\n",
    "    except NotExistent:\n",
    "        pass\n",
    "\n",
    "    print(\"Creating new computer with name '{}'\".format(computer_name))\n",
    "    computer = Computer(name=computer_name)\n",
    "    computer.set_hostname(\"login.marconi.cineca.it\")\n",
    "    computer.set_description(\"Marconi\")\n",
    "    computer.set_enabled_state(True)\n",
    "    computer.set_transport_type(\"ssh\")\n",
    "    computer.set_scheduler_type(\"slurm\")\n",
    "    computer.set_workdir(\"/marconi_scratch/userexternal/\"+username+\"/aiida_run_\"+computer_name)\n",
    "    # set_mpirun_command() must be called after set_scheduler_type()\n",
    "    #cmd = \"srun -n {tot_num_mpiprocs} -c $SLURM_CPUS_PER_TASK --cpu_bind=rank --hint=nomultithread\"\n",
    "    cmd = \"mpiexec\"\n",
    "    computer.set_mpirun_command(cmd.split())\n",
    "    ncpus = 16\n",
    "    computer.set_default_mpiprocs_per_machine(ncpus)\n",
    "    prepend_text  = \"### computer prepend_text start ###\\n\"\n",
    "    \n",
    "    prepend_text += \"#SBATCH --mail-type=ALL\\n\"\n",
    "    prepend_text += \"#SBATCH --mail-user=edditler+slurm@gmail.com\\n\"\n",
    "    \n",
    "    prepend_text += \"#SBATCH --cpus-per-task=4\\n\"\n",
    "    prepend_text += \"#SBATCH --mem=83GB\\n\"\n",
    "    prepend_text += \"#SBATCH --account=%s\\n\"%account\n",
    "    prepend_text += \"#SBATCH --partition=%s\\n\"%partition\n",
    "\n",
    "    prepend_text += '''\n",
    "nodes=64\n",
    "nranks=16\n",
    "nthrds=4\n",
    "'''\n",
    "\n",
    "    prepend_text += \"### computer prepend_text end ###\\n\"\n",
    "    computer.set_prepend_text(prepend_text)\n",
    "    computer.store()\n",
    "    \n",
    "    # create DbAuthInfo\n",
    "    authparams = {\n",
    "        'compress': True,\n",
    "        'gss_auth': False,\n",
    "        'gss_deleg_creds': False,\n",
    "        'gss_host': 'login.marconi.cineca.it',\n",
    "        'gss_kex': False,\n",
    "        'key_policy': 'RejectPolicy',\n",
    "        'load_system_host_keys': True,\n",
    "        'port': 22,\n",
    "        #'proxy_command': 'ssh '+username+'@ela.cscs.ch netcat daint.cscs.ch 22',\n",
    "        'timeout': 60,\n",
    "        'username': username,\n",
    "    }\n",
    "    aiidauser = get_automatic_user()\n",
    "    authinfo = DbAuthInfo(dbcomputer=computer.dbcomputer, aiidauser=aiidauser)\n",
    "    authinfo.set_auth_params(authparams)\n",
    "    authinfo.save()\n",
    "    \n",
    "    ! verdi computer show {computer_name}"
   ]
  },
  {
   "cell_type": "code",
   "execution_count": 6,
   "metadata": {},
   "outputs": [
    {
     "data": {
      "application/vnd.jupyter.widget-view+json": {
       "model_id": "1b5e0587cabe45d1b287ae8bbc664045",
       "version_major": 2,
       "version_minor": 0
      },
      "text/html": [
       "<p>Failed to display Jupyter Widget of type <code>Text</code>.</p>\n",
       "<p>\n",
       "  If you're reading this message in the Jupyter Notebook or JupyterLab Notebook, it may mean\n",
       "  that the widgets JavaScript is still loading. If this message persists, it\n",
       "  likely means that the widgets JavaScript library is either not installed or\n",
       "  not enabled. See the <a href=\"https://ipywidgets.readthedocs.io/en/stable/user_install.html\">Jupyter\n",
       "  Widgets Documentation</a> for setup instructions.\n",
       "</p>\n",
       "<p>\n",
       "  If you're reading this message in another frontend (for example, a static\n",
       "  rendering on GitHub or <a href=\"https://nbviewer.jupyter.org/\">NBViewer</a>),\n",
       "  it may mean that your frontend doesn't currently support widgets.\n",
       "</p>\n"
      ],
      "text/plain": [
       "Text(value=u'daint', description=u'Computer name:', layout=Layout(width=u'400px'), style=DescriptionStyle(description_width=u'150px'))"
      ]
     },
     "metadata": {},
     "output_type": "display_data"
    },
    {
     "data": {
      "application/vnd.jupyter.widget-view+json": {
       "model_id": "bbfa76d5e1194e23bb18e6c1c0bebbc2",
       "version_major": 2,
       "version_minor": 0
      },
      "text/html": [
       "<p>Failed to display Jupyter Widget of type <code>Dropdown</code>.</p>\n",
       "<p>\n",
       "  If you're reading this message in the Jupyter Notebook or JupyterLab Notebook, it may mean\n",
       "  that the widgets JavaScript is still loading. If this message persists, it\n",
       "  likely means that the widgets JavaScript library is either not installed or\n",
       "  not enabled. See the <a href=\"https://ipywidgets.readthedocs.io/en/stable/user_install.html\">Jupyter\n",
       "  Widgets Documentation</a> for setup instructions.\n",
       "</p>\n",
       "<p>\n",
       "  If you're reading this message in another frontend (for example, a static\n",
       "  rendering on GitHub or <a href=\"https://nbviewer.jupyter.org/\">NBViewer</a>),\n",
       "  it may mean that your frontend doesn't currently support widgets.\n",
       "</p>\n"
      ],
      "text/plain": [
       "Dropdown(description=u'Slurm Account:', layout=Layout(width=u'400px'), options={'first run ssh setup': False}, style=DescriptionStyle(description_width=u'150px'), value=False)"
      ]
     },
     "metadata": {},
     "output_type": "display_data"
    },
    {
     "data": {
      "application/vnd.jupyter.widget-view+json": {
       "model_id": "578de1d73d7d4324ad60256a0486a833",
       "version_major": 2,
       "version_minor": 0
      },
      "text/html": [
       "<p>Failed to display Jupyter Widget of type <code>Button</code>.</p>\n",
       "<p>\n",
       "  If you're reading this message in the Jupyter Notebook or JupyterLab Notebook, it may mean\n",
       "  that the widgets JavaScript is still loading. If this message persists, it\n",
       "  likely means that the widgets JavaScript library is either not installed or\n",
       "  not enabled. See the <a href=\"https://ipywidgets.readthedocs.io/en/stable/user_install.html\">Jupyter\n",
       "  Widgets Documentation</a> for setup instructions.\n",
       "</p>\n",
       "<p>\n",
       "  If you're reading this message in another frontend (for example, a static\n",
       "  rendering on GitHub or <a href=\"https://nbviewer.jupyter.org/\">NBViewer</a>),\n",
       "  it may mean that your frontend doesn't currently support widgets.\n",
       "</p>\n"
      ],
      "text/plain": [
       "Button(description=u'Setup Computer', style=ButtonStyle())"
      ]
     },
     "metadata": {},
     "output_type": "display_data"
    },
    {
     "data": {
      "application/vnd.jupyter.widget-view+json": {
       "model_id": "1ad2714898c840fcbb1b26303d60d282",
       "version_major": 2,
       "version_minor": 0
      },
      "text/html": [
       "<p>Failed to display Jupyter Widget of type <code>Output</code>.</p>\n",
       "<p>\n",
       "  If you're reading this message in the Jupyter Notebook or JupyterLab Notebook, it may mean\n",
       "  that the widgets JavaScript is still loading. If this message persists, it\n",
       "  likely means that the widgets JavaScript library is either not installed or\n",
       "  not enabled. See the <a href=\"https://ipywidgets.readthedocs.io/en/stable/user_install.html\">Jupyter\n",
       "  Widgets Documentation</a> for setup instructions.\n",
       "</p>\n",
       "<p>\n",
       "  If you're reading this message in another frontend (for example, a static\n",
       "  rendering on GitHub or <a href=\"https://nbviewer.jupyter.org/\">NBViewer</a>),\n",
       "  it may mean that your frontend doesn't currently support widgets.\n",
       "</p>\n"
      ],
      "text/plain": [
       "Output()"
      ]
     },
     "metadata": {},
     "output_type": "display_data"
    }
   ],
   "source": [
    "def on_account_change(c):\n",
    "    if drop_account.value:\n",
    "        inp_compname.value = inp_compname.value.rsplit(\"-\",1)[0] + \"-\" + drop_account.value[0]\n",
    "\n",
    "def on_setup_computer(b):\n",
    "    with setup_comp_out:\n",
    "        clear_output()\n",
    "        if len(inp_compname.value.strip())==0:\n",
    "            print(\"Please enter computer name\")\n",
    "            return\n",
    "        if not drop_account.value:\n",
    "            print(\"Plese select a slurm account\")\n",
    "            return\n",
    "        account, partition = drop_account.value\n",
    "        setup_computer(inp_compname.value, inp_username.value, account, partition)\n",
    "\n",
    "    \n",
    "inp_compname = ipw.Text(description=\"Computer name:\", value=\"daint\", layout=layout, style=style)\n",
    "drop_account = ipw.Dropdown(description=\"Slurm Account:\", options={\"first run ssh setup\":False}, style=style, layout=layout )\n",
    "drop_account.observe(on_account_change, names='value')\n",
    "btn_setup_comp = ipw.Button(description=\"Setup Computer\")\n",
    "btn_setup_comp.on_click(on_setup_computer)\n",
    "setup_comp_out = ipw.Output()\n",
    "display(inp_compname, drop_account, btn_setup_comp, setup_comp_out)"
   ]
  },
  {
   "cell_type": "markdown",
   "metadata": {},
   "source": [
    "## Step 3: Test Computer"
   ]
  },
  {
   "cell_type": "code",
   "execution_count": 7,
   "metadata": {},
   "outputs": [
    {
     "data": {
      "application/vnd.jupyter.widget-view+json": {
       "model_id": "31dda835c156461a85a7947423460234",
       "version_major": 2,
       "version_minor": 0
      },
      "text/html": [
       "<p>Failed to display Jupyter Widget of type <code>Button</code>.</p>\n",
       "<p>\n",
       "  If you're reading this message in the Jupyter Notebook or JupyterLab Notebook, it may mean\n",
       "  that the widgets JavaScript is still loading. If this message persists, it\n",
       "  likely means that the widgets JavaScript library is either not installed or\n",
       "  not enabled. See the <a href=\"https://ipywidgets.readthedocs.io/en/stable/user_install.html\">Jupyter\n",
       "  Widgets Documentation</a> for setup instructions.\n",
       "</p>\n",
       "<p>\n",
       "  If you're reading this message in another frontend (for example, a static\n",
       "  rendering on GitHub or <a href=\"https://nbviewer.jupyter.org/\">NBViewer</a>),\n",
       "  it may mean that your frontend doesn't currently support widgets.\n",
       "</p>\n"
      ],
      "text/plain": [
       "Button(description=u'Test Computer', style=ButtonStyle())"
      ]
     },
     "metadata": {},
     "output_type": "display_data"
    },
    {
     "data": {
      "application/vnd.jupyter.widget-view+json": {
       "model_id": "14127efbaf854575a6245e6a3e750987",
       "version_major": 2,
       "version_minor": 0
      },
      "text/html": [
       "<p>Failed to display Jupyter Widget of type <code>Output</code>.</p>\n",
       "<p>\n",
       "  If you're reading this message in the Jupyter Notebook or JupyterLab Notebook, it may mean\n",
       "  that the widgets JavaScript is still loading. If this message persists, it\n",
       "  likely means that the widgets JavaScript library is either not installed or\n",
       "  not enabled. See the <a href=\"https://ipywidgets.readthedocs.io/en/stable/user_install.html\">Jupyter\n",
       "  Widgets Documentation</a> for setup instructions.\n",
       "</p>\n",
       "<p>\n",
       "  If you're reading this message in another frontend (for example, a static\n",
       "  rendering on GitHub or <a href=\"https://nbviewer.jupyter.org/\">NBViewer</a>),\n",
       "  it may mean that your frontend doesn't currently support widgets.\n",
       "</p>\n"
      ],
      "text/plain": [
       "Output()"
      ]
     },
     "metadata": {},
     "output_type": "display_data"
    }
   ],
   "source": [
    "def on_test_computer(b):\n",
    "    with test_out:\n",
    "        clear_output()\n",
    "        if len(inp_compname.value.strip())==0:\n",
    "            print(\"Please enter computer name\")\n",
    "            return\n",
    "        ! verdi computer test {inp_compname.value}\n",
    "\n",
    "test_out = ipw.Output()\n",
    "btn_test_comp = ipw.Button(description=\"Test Computer\")\n",
    "btn_test_comp.on_click(on_test_computer)\n",
    "display(btn_test_comp, test_out)"
   ]
  },
  {
   "cell_type": "markdown",
   "metadata": {},
   "source": [
    "## Step 4: Setup codes"
   ]
  },
  {
   "cell_type": "code",
   "execution_count": 8,
   "metadata": {},
   "outputs": [],
   "source": [
    "def setup_codes(computer_name, partition):\n",
    "    computer = Computer.get(computer_name)\n",
    "    \n",
    "    cp2k_path = \"/marconi/home/userexternal/keimre00/soft/cp2k_5.1_18268/cp2k/exe/knl_intel/\"\n",
    "    \n",
    "    # CP2K\n",
    "    cp2k_version = '5.1'\n",
    "    cp2k_revision = '18268'\n",
    "    code_label = \"cp2k_{}_{}_marconi\".format(cp2k_version, cp2k_revision)\n",
    "    code_full_name = \"{}@{}\".format(code_label, computer_name)\n",
    "    try:\n",
    "        Code.get_from_string(code_full_name)\n",
    "    except (NotExistent, MultipleObjectsError):            \n",
    "        code = Code(remote_computer_exec=(computer, cp2k_path + \"cp2k.psmp\"))\n",
    "        code.label = code_label\n",
    "        code.description = \"CP2K Code\"\n",
    "        code.set_input_plugin_name(\"cp2k\")\n",
    "        prepend_text  = \"### code prepend_text start ###\\n\"\n",
    "        prepend_text += \"export CP2K_DATA_DIR=/marconi/home/userexternal/keimre00/soft/cp2k_5.1_18268/cp2k/data\\n\"\n",
    "        prepend_text += \"### code prepend_text end ###\\n\"\n",
    "        code.set_prepend_text(prepend_text)\n",
    "        code.set_append_text(\"\")\n",
    "        code._reveal()\n",
    "        code.store()\n",
    "        ! verdi code show \"{code_full_name}\"\n",
    "    else:\n",
    "        print(\"Code '{}' already existent\".format(code_full_name))"
   ]
  },
  {
   "cell_type": "code",
   "execution_count": 9,
   "metadata": {
    "scrolled": false
   },
   "outputs": [
    {
     "data": {
      "application/vnd.jupyter.widget-view+json": {
       "model_id": "c4f2ef7b535d4994923660f5fb6fb8e4",
       "version_major": 2,
       "version_minor": 0
      },
      "text/html": [
       "<p>Failed to display Jupyter Widget of type <code>Button</code>.</p>\n",
       "<p>\n",
       "  If you're reading this message in the Jupyter Notebook or JupyterLab Notebook, it may mean\n",
       "  that the widgets JavaScript is still loading. If this message persists, it\n",
       "  likely means that the widgets JavaScript library is either not installed or\n",
       "  not enabled. See the <a href=\"https://ipywidgets.readthedocs.io/en/stable/user_install.html\">Jupyter\n",
       "  Widgets Documentation</a> for setup instructions.\n",
       "</p>\n",
       "<p>\n",
       "  If you're reading this message in another frontend (for example, a static\n",
       "  rendering on GitHub or <a href=\"https://nbviewer.jupyter.org/\">NBViewer</a>),\n",
       "  it may mean that your frontend doesn't currently support widgets.\n",
       "</p>\n"
      ],
      "text/plain": [
       "Button(description=u'Setup Codes', style=ButtonStyle())"
      ]
     },
     "metadata": {},
     "output_type": "display_data"
    },
    {
     "data": {
      "application/vnd.jupyter.widget-view+json": {
       "model_id": "0bc4629410d943e683fe48ad1c666e81",
       "version_major": 2,
       "version_minor": 0
      },
      "text/html": [
       "<p>Failed to display Jupyter Widget of type <code>Output</code>.</p>\n",
       "<p>\n",
       "  If you're reading this message in the Jupyter Notebook or JupyterLab Notebook, it may mean\n",
       "  that the widgets JavaScript is still loading. If this message persists, it\n",
       "  likely means that the widgets JavaScript library is either not installed or\n",
       "  not enabled. See the <a href=\"https://ipywidgets.readthedocs.io/en/stable/user_install.html\">Jupyter\n",
       "  Widgets Documentation</a> for setup instructions.\n",
       "</p>\n",
       "<p>\n",
       "  If you're reading this message in another frontend (for example, a static\n",
       "  rendering on GitHub or <a href=\"https://nbviewer.jupyter.org/\">NBViewer</a>),\n",
       "  it may mean that your frontend doesn't currently support widgets.\n",
       "</p>\n"
      ],
      "text/plain": [
       "Output()"
      ]
     },
     "metadata": {},
     "output_type": "display_data"
    }
   ],
   "source": [
    "def on_setup_codes(b):\n",
    "    with setup_code_out:\n",
    "        clear_output()\n",
    "        partition = drop_account.value[1]\n",
    "        setup_codes(inp_compname.value, partition)\n",
    "\n",
    "setup_code_out = ipw.Output()\n",
    "btn_setup_codes = ipw.Button(description=\"Setup Codes\")\n",
    "btn_setup_codes.on_click(on_setup_codes)\n",
    "display(btn_setup_codes, setup_code_out)"
   ]
  },
  {
   "cell_type": "code",
   "execution_count": null,
   "metadata": {},
   "outputs": [],
   "source": []
  },
  {
   "cell_type": "code",
   "execution_count": null,
   "metadata": {},
   "outputs": [],
   "source": []
  }
 ],
 "metadata": {
  "kernelspec": {
   "display_name": "Python 2",
   "language": "python",
   "name": "python2"
  },
  "language_info": {
   "codemirror_mode": {
    "name": "ipython",
    "version": 2
   },
   "file_extension": ".py",
   "mimetype": "text/x-python",
   "name": "python",
   "nbconvert_exporter": "python",
   "pygments_lexer": "ipython2",
   "version": "2.7.13"
  }
 },
 "nbformat": 4,
 "nbformat_minor": 2
}
